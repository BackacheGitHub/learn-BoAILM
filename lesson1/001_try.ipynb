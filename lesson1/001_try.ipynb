{
 "cells": [
  {
   "cell_type": "code",
   "execution_count": 2,
   "outputs": [
    {
     "name": "stdout",
     "output_type": "stream",
     "text": [
      "\n",
      "{\n",
      "    \"title\": \"PVC Inflatable Glow-in-the-Dark Frog Water Toy for Kids Night Market Stall Hot Sale\",\n",
      "    \"selling_points\": [\n",
      "        \"Made of durable PVC material\",\n",
      "        \"Inflatable design for easy storage and transport\",\n",
      "        \"Glow-in-the-dark feature for night time fun\",\n",
      "        \"Perfect for water play and pool parties\",\n",
      "        \"Great for kids of all ages\"\n",
      "    ],\n",
      "    \"price_range\": \"$10 - $20\"\n",
      "}\n"
     ]
    }
   ],
   "source": [
    "import openai\n",
    "import os\n",
    "from openai import OpenAI\n",
    "\n",
    "openai.api_key = os.environ.get(\"OPENAI_API_KEY\")\n",
    "openai.base_url = \"https://api.closeai-proxy.xyz/v1\"\n",
    "COMPLETION_MODEL = \"text-davinci-003\"\n",
    "\n",
    "prompt = \"\"\"\n",
    "Consideration product : 工厂现货PVC充气青蛙夜市地摊热卖充气玩具发光蛙儿童水上玩具\n",
    "\n",
    "1. Compose human readable product title used on Amazon in english within 20 words.\n",
    "2. Write 5 selling points for the products in Amazon.\n",
    "3. Evaluate a price range for this product in U.S.\n",
    "\n",
    "Output the result in json format with three properties called title, selling_points and price_range\n",
    "\"\"\"\n",
    "\n",
    "\n",
    "# def get_response(prompt):\n",
    "#     completions = openai.completions.create(\n",
    "#         model=COMPLETION_MODEL,\n",
    "#         prompt=prompt,\n",
    "#         max_tokens=512,\n",
    "#         n=1,\n",
    "#         stop=None,\n",
    "#         temperature=0.0,\n",
    "#     )\n",
    "#     message = completions.choices[0].text\n",
    "#     return message\n",
    "\n",
    "client = OpenAI(\n",
    "    api_key=os.environ.get(\"OPENAI_API_KEY\"),\n",
    "    # base_url=\"https://api.openai-proxy.org/v1\",\n",
    "    base_url=\"https://api.closeai-proxy.xyz/v1\",\n",
    ")\n",
    "\n",
    "completion = client.completions.create(\n",
    "    prompt=prompt,\n",
    "    max_tokens=512,\n",
    "    n=1,\n",
    "    stop=None,\n",
    "    temperature=0.0,\n",
    "    model=COMPLETION_MODEL,\n",
    ")\n",
    "\n",
    "message = completion.choices[0].text\n",
    "print(message)\n"
   ],
   "metadata": {
    "collapsed": false,
    "ExecuteTime": {
     "end_time": "2023-11-10T15:49:30.254622Z",
     "start_time": "2023-11-10T15:49:26.040936Z"
    }
   },
   "id": "c9227d57f1e3264d"
  },
  {
   "cell_type": "code",
   "execution_count": null,
   "id": "794e6606-939d-4be8-b631-8c027a844f07",
   "metadata": {
    "ExecuteTime": {
     "end_time": "2023-11-10T15:47:46.794937Z",
     "start_time": "2023-11-10T15:47:46.790854Z"
    }
   },
   "outputs": [],
   "source": []
  }
 ],
 "metadata": {
  "kernelspec": {
   "display_name": "Python 3 (ipykernel)",
   "language": "python",
   "name": "python3"
  },
  "language_info": {
   "codemirror_mode": {
    "name": "ipython",
    "version": 3
   },
   "file_extension": ".py",
   "mimetype": "text/x-python",
   "name": "python",
   "nbconvert_exporter": "python",
   "pygments_lexer": "ipython3",
   "version": "3.10.13"
  }
 },
 "nbformat": 4,
 "nbformat_minor": 5
}
