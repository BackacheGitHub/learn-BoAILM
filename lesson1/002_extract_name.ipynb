{
 "cells": [
  {
   "cell_type": "code",
   "execution_count": 1,
   "outputs": [
    {
     "name": "stdout",
     "output_type": "stream",
     "text": [
      "\n",
      "{\n",
      "  \"names\": [\"Ten Hag\"]\n",
      "}\n"
     ]
    }
   ],
   "source": [
    "import openai\n",
    "import os\n",
    "from openai import OpenAI\n",
    "\n",
    "openai.api_key = os.environ.get(\"OPENAI_API_KEY\")\n",
    "openai.base_url = \"https://api.closeai-proxy.xyz/v1\"\n",
    "COMPLETION_MODEL = \"text-davinci-003\"\n",
    "\n",
    "client = OpenAI(\n",
    "    api_key=os.environ.get(\"OPENAI_API_KEY\"),\n",
    "    base_url=\"https://api.closeai-proxy.xyz/v1\",\n",
    ")\n",
    "\n",
    "prompt = \"\"\"\n",
    "Man Utd must win trophies, says Ten Hag ahead of League Cup final\n",
    "\n",
    "请将上面这句话的人名提取出来，并用json的方式展示出来\n",
    "\"\"\"\n",
    "\n",
    "\n",
    "def get_response(p):\n",
    "    completions = client.completions.create(\n",
    "        prompt=p,\n",
    "        max_tokens=512,\n",
    "        n=1,\n",
    "        stop=None,\n",
    "        temperature=0.0,\n",
    "        model=COMPLETION_MODEL,\n",
    "    )\n",
    "    message = completions.choices[0].text\n",
    "    return message\n",
    "\n",
    "\n",
    "print(get_response(prompt))\n"
   ],
   "metadata": {
    "collapsed": false,
    "ExecuteTime": {
     "end_time": "2023-11-10T15:48:10.448193Z",
     "start_time": "2023-11-10T15:48:07.027469Z"
    }
   },
   "id": "c9227d57f1e3264d"
  },
  {
   "cell_type": "code",
   "execution_count": null,
   "id": "794e6606-939d-4be8-b631-8c027a844f07",
   "metadata": {
    "ExecuteTime": {
     "end_time": "2023-11-10T15:47:46.794937Z",
     "start_time": "2023-11-10T15:47:46.790854Z"
    }
   },
   "outputs": [],
   "source": []
  },
  {
   "cell_type": "code",
   "execution_count": null,
   "id": "1694a809-cca4-4506-b81d-4f3bf3d636d1",
   "metadata": {
    "ExecuteTime": {
     "end_time": "2023-11-10T15:48:03.624437Z",
     "start_time": "2023-11-10T15:48:03.588721Z"
    }
   },
   "outputs": [],
   "source": []
  },
  {
   "cell_type": "code",
   "execution_count": null,
   "outputs": [],
   "source": [],
   "metadata": {
    "collapsed": false
   },
   "id": "f9b5d1e2ead8d5ed"
  }
 ],
 "metadata": {
  "kernelspec": {
   "display_name": "Python 3 (ipykernel)",
   "language": "python",
   "name": "python3"
  },
  "language_info": {
   "codemirror_mode": {
    "name": "ipython",
    "version": 3
   },
   "file_extension": ".py",
   "mimetype": "text/x-python",
   "name": "python",
   "nbconvert_exporter": "python",
   "pygments_lexer": "ipython3",
   "version": "3.10.13"
  }
 },
 "nbformat": 4,
 "nbformat_minor": 5
}
